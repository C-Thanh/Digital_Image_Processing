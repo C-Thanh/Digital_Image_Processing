{
 "cells": [
  {
   "cell_type": "markdown",
   "metadata": {},
   "source": [
    "# Lab 01: Morphological Operations"
   ]
  },
  {
   "cell_type": "markdown",
   "metadata": {},
   "source": [
    "<b>Student's ID: 21127730\\\n",
    "Full Name: Hoang Le Cat Thanh</b>"
   ]
  },
  {
   "cell_type": "markdown",
   "metadata": {},
   "source": [
    "### Import Library"
   ]
  },
  {
   "cell_type": "code",
   "execution_count": 2,
   "metadata": {},
   "outputs": [],
   "source": [
    "import numpy as np\n",
    "import cv2"
   ]
  },
  {
   "cell_type": "markdown",
   "metadata": {},
   "source": [
    "## Binary Morphological Operations"
   ]
  },
  {
   "cell_type": "markdown",
   "metadata": {},
   "source": [
    "### Dilation"
   ]
  },
  {
   "cell_type": "code",
   "execution_count": 3,
   "metadata": {},
   "outputs": [],
   "source": [
    "#Binary Dilation\n",
    "def BinaryDilation(img, kernel):\n",
    "    # Get the dimensions of the image and the kernel\n",
    "    img_height, img_width = img.shape\n",
    "    kernel_height, kernel_width = kernel.shape\n",
    "\n",
    "    # Calculate the padding size\n",
    "    pad_height = kernel_height // 2\n",
    "    pad_width = kernel_width // 2\n",
    "\n",
    "    # Pad the image\n",
    "    padded_image = np.pad(img, ((pad_height, pad_height), (pad_width, pad_width)))\n",
    "\n",
    "    # Initialize the output image\n",
    "    output_image = np.zeros_like(img)\n",
    "\n",
    "    # Apply the dilation operation\n",
    "    for i in range(img_height):\n",
    "        for j in range(img_width):\n",
    "            if np.sum(kernel * padded_image[i:i+kernel_height, j:j+kernel_width]) > 0:\n",
    "                output_image[i, j] = 255\n",
    "\n",
    "    return output_image\n"
   ]
  },
  {
   "cell_type": "markdown",
   "metadata": {},
   "source": [
    "### Erosion"
   ]
  },
  {
   "cell_type": "code",
   "execution_count": 4,
   "metadata": {},
   "outputs": [],
   "source": [
    "def BinaryErosion(img, kernel):\n",
    "    #Normalize the image values\n",
    "    img = img / 255\n",
    "    # Get the dimensions of the image and the kernel\n",
    "    img_height, img_width = img.shape\n",
    "    kernel_height, kernel_width = kernel.shape\n",
    "\n",
    "    # Calculate the padding size\n",
    "    pad_height = kernel_height // 2\n",
    "    pad_width = kernel_width // 2\n",
    "\n",
    "    # Pad the image\n",
    "    padded_image = np.pad(img, ((pad_height, pad_height), (pad_width, pad_width)))\n",
    "\n",
    "    # Initialize the output image\n",
    "    output_image = np.zeros_like(img)\n",
    "\n",
    "    # Apply the erosion operation\n",
    "    for i in range(img_height):\n",
    "        for j in range(img_width):\n",
    "            if np.sum(kernel * padded_image[i:i+kernel_height, j:j+kernel_width]) == np.sum(kernel):\n",
    "                output_image[i, j] = 255  # Set to 255 for white in the output image\n",
    "\n",
    "    return output_image"
   ]
  },
  {
   "cell_type": "markdown",
   "metadata": {},
   "source": [
    "### Opening"
   ]
  },
  {
   "cell_type": "code",
   "execution_count": 5,
   "metadata": {},
   "outputs": [],
   "source": [
    "def BinaryOpening(img, kernel):\n",
    "    erosion = BinaryErosion(img, kernel)\n",
    "    opening = BinaryDilation(erosion, kernel)\n",
    "    return opening"
   ]
  },
  {
   "cell_type": "markdown",
   "metadata": {},
   "source": [
    "### Closing"
   ]
  },
  {
   "cell_type": "code",
   "execution_count": 6,
   "metadata": {},
   "outputs": [],
   "source": [
    "def BinaryClosing(img, kernel):\n",
    "    dilation = BinaryDilation(img, kernel)\n",
    "    closing = BinaryErosion(dilation, kernel)\n",
    "    return closing"
   ]
  },
  {
   "cell_type": "markdown",
   "metadata": {},
   "source": [
    "## Grayscale Morphological Operations"
   ]
  },
  {
   "cell_type": "markdown",
   "metadata": {},
   "source": [
    "### Dilation"
   ]
  },
  {
   "cell_type": "code",
   "execution_count": 7,
   "metadata": {},
   "outputs": [],
   "source": [
    "def GrayscaleDilation(img, kernel):\n",
    "    # Get the dimensions of the image and the kernel\n",
    "    img_height, img_width = img.shape\n",
    "    kernel_height, kernel_width = kernel.shape\n",
    "\n",
    "    # Calculate the padding size\n",
    "    pad_height = kernel_height // 2\n",
    "    pad_width = kernel_width // 2\n",
    "\n",
    "    # Pad the image\n",
    "    padded_image = np.pad(img, ((pad_height, pad_height), (pad_width, pad_width)))\n",
    "\n",
    "    # Initialize the output image\n",
    "    output_image = np.zeros_like(img)\n",
    "\n",
    "    # Apply the dilation operation\n",
    "    for i in range(img_height):\n",
    "        for j in range(img_width):\n",
    "            output_image[i, j] = np.max(padded_image[i:i+kernel_height, j:j+kernel_width])\n",
    "\n",
    "    return output_image\n"
   ]
  },
  {
   "cell_type": "markdown",
   "metadata": {},
   "source": [
    "### Erosion"
   ]
  },
  {
   "cell_type": "code",
   "execution_count": 8,
   "metadata": {},
   "outputs": [],
   "source": [
    "def GrayscaleErosion(img, kernel):\n",
    "    # Get the dimensions of the image and the kernel\n",
    "    img_height, img_width = img.shape\n",
    "    kernel_height, kernel_width = kernel.shape\n",
    "\n",
    "    # Calculate the padding size\n",
    "    pad_height = kernel_height // 2\n",
    "    pad_width = kernel_width // 2\n",
    "\n",
    "    # Pad the image\n",
    "    padded_image = np.pad(img, ((pad_height, pad_height), (pad_width, pad_width)))\n",
    "\n",
    "    # Initialize the output image\n",
    "    output_image = np.zeros_like(img)\n",
    "\n",
    "    # Apply the erosion operation\n",
    "    for i in range(img_height):\n",
    "        for j in range(img_width):\n",
    "            output_image[i, j] = np.min(padded_image[i:i+kernel_height, j:j+kernel_width])\n",
    "\n",
    "    return output_image"
   ]
  },
  {
   "cell_type": "markdown",
   "metadata": {},
   "source": [
    "### Opening"
   ]
  },
  {
   "cell_type": "code",
   "execution_count": 9,
   "metadata": {},
   "outputs": [],
   "source": [
    "def GrayscaleOpening(img, kernel):\n",
    "    eroded = GrayscaleErosion(img, kernel)\n",
    "    opened = GrayscaleDilation(eroded, kernel)\n",
    "    return opened    "
   ]
  },
  {
   "cell_type": "markdown",
   "metadata": {},
   "source": [
    "### Closing"
   ]
  },
  {
   "cell_type": "code",
   "execution_count": 10,
   "metadata": {},
   "outputs": [],
   "source": [
    "def GrayscaleClosing(img, kernel):\n",
    "    dilated = GrayscaleDilation(img, kernel)\n",
    "    closed = GrayscaleErosion(dilated, kernel)\n",
    "    return closed"
   ]
  },
  {
   "cell_type": "markdown",
   "metadata": {},
   "source": [
    "### Gradient"
   ]
  },
  {
   "cell_type": "code",
   "execution_count": 11,
   "metadata": {},
   "outputs": [],
   "source": [
    "def GrayscaleGradient (img, kernel):\n",
    "    dilated = GrayscaleDilation(img, kernel)\n",
    "    eroded = GrayscaleErosion(img, kernel)\n",
    "    return dilated - eroded"
   ]
  },
  {
   "cell_type": "markdown",
   "metadata": {},
   "source": [
    "### Top-hat"
   ]
  },
  {
   "cell_type": "code",
   "execution_count": 12,
   "metadata": {},
   "outputs": [],
   "source": [
    "def GrayscaleTopHat(img, kernel):\n",
    "    opened = GrayscaleOpening(img, kernel)\n",
    "    top_hat = img - opened\n",
    "    return top_hat"
   ]
  },
  {
   "cell_type": "markdown",
   "metadata": {},
   "source": [
    "## Read and show the input image for binary operations"
   ]
  },
  {
   "cell_type": "code",
   "execution_count": 13,
   "metadata": {},
   "outputs": [],
   "source": [
    "# Load the image using OpenCV\n",
    "image = cv2.imread('data/coin.jpg', cv2.IMREAD_GRAYSCALE)  # Read as grayscale (0 flag)\n",
    "cv2.imshow('Input image', image)"
   ]
  },
  {
   "cell_type": "code",
   "execution_count": 14,
   "metadata": {},
   "outputs": [],
   "source": [
    "#Convert the image to binary\n",
    "_, image = cv2.threshold(image, 127, 255, cv2.THRESH_BINARY)\n",
    "invert = cv2.bitwise_not(image) \n",
    "# Define the structuring element\n",
    "kernel = np.ones((3, 3), np.uint8)\n",
    "cv2.imshow('Binary image', invert)"
   ]
  },
  {
   "cell_type": "markdown",
   "metadata": {},
   "source": [
    "### Binary Dilation"
   ]
  },
  {
   "cell_type": "code",
   "execution_count": 15,
   "metadata": {},
   "outputs": [],
   "source": [
    "# Perform dilation using function\n",
    "dilated = BinaryDilation(invert, kernel)\n",
    "cv2.imshow('Binary Dilation', dilated)"
   ]
  },
  {
   "cell_type": "markdown",
   "metadata": {},
   "source": [
    "### Binary Erosion"
   ]
  },
  {
   "cell_type": "code",
   "execution_count": 16,
   "metadata": {},
   "outputs": [],
   "source": [
    "# Perform erosion using function\n",
    "eroded = BinaryErosion(invert, kernel)\n",
    "cv2.imshow('Binary Erosion', eroded)"
   ]
  },
  {
   "cell_type": "markdown",
   "metadata": {},
   "source": [
    "### Binary Opening"
   ]
  },
  {
   "cell_type": "code",
   "execution_count": 17,
   "metadata": {},
   "outputs": [],
   "source": [
    "#Perform opening using function\n",
    "opened = BinaryOpening(invert, kernel)\n",
    "cv2.imshow('Binary Opening', opened)"
   ]
  },
  {
   "cell_type": "markdown",
   "metadata": {},
   "source": [
    "### Binary Closing"
   ]
  },
  {
   "cell_type": "code",
   "execution_count": 18,
   "metadata": {},
   "outputs": [],
   "source": [
    "#Perform closing using function\n",
    "closed = BinaryClosing(invert, kernel)\n",
    "cv2.imshow('Binary Closing', closed)"
   ]
  },
  {
   "cell_type": "markdown",
   "metadata": {},
   "source": [
    "### Grayscale Dilation"
   ]
  },
  {
   "cell_type": "code",
   "execution_count": 19,
   "metadata": {},
   "outputs": [],
   "source": [
    "gray_dilated = GrayscaleDilation(image, kernel)\n",
    "cv2.imshow('Grayscale Dilation', gray_dilated)"
   ]
  },
  {
   "cell_type": "markdown",
   "metadata": {},
   "source": [
    "### Grayscale Erosion"
   ]
  },
  {
   "cell_type": "code",
   "execution_count": 20,
   "metadata": {},
   "outputs": [],
   "source": [
    "gray_eroded = GrayscaleErosion(image, kernel)\n",
    "cv2.imshow('Grayscale Erosion', gray_eroded)"
   ]
  },
  {
   "cell_type": "markdown",
   "metadata": {},
   "source": [
    "### Grayscale Opening"
   ]
  },
  {
   "cell_type": "code",
   "execution_count": 21,
   "metadata": {},
   "outputs": [],
   "source": [
    "gray_opened = GrayscaleOpening(image, kernel)\n",
    "cv2.imshow('Grayscale Opening', gray_opened)"
   ]
  },
  {
   "cell_type": "markdown",
   "metadata": {},
   "source": [
    "### Grayscale Closing"
   ]
  },
  {
   "cell_type": "code",
   "execution_count": 22,
   "metadata": {},
   "outputs": [],
   "source": [
    "gray_closed = GrayscaleClosing(image, kernel)\n",
    "cv2.imshow('Grayscale Closing', gray_closed)"
   ]
  },
  {
   "cell_type": "markdown",
   "metadata": {},
   "source": [
    "### Grayscale Gradient"
   ]
  },
  {
   "cell_type": "code",
   "execution_count": 23,
   "metadata": {},
   "outputs": [],
   "source": [
    "gray_gradient = GrayscaleGradient(image, kernel)\n",
    "cv2.imshow('Grayscale Gradient', gray_gradient)"
   ]
  },
  {
   "cell_type": "markdown",
   "metadata": {},
   "source": [
    "### Grayscale Top-hat"
   ]
  },
  {
   "cell_type": "code",
   "execution_count": null,
   "metadata": {},
   "outputs": [
    {
     "ename": "",
     "evalue": "",
     "output_type": "error",
     "traceback": [
      "\u001b[1;31mThe Kernel crashed while executing code in the current cell or a previous cell. \n",
      "\u001b[1;31mPlease review the code in the cell(s) to identify a possible cause of the failure. \n",
      "\u001b[1;31mClick <a href='https://aka.ms/vscodeJupyterKernelCrash'>here</a> for more info. \n",
      "\u001b[1;31mView Jupyter <a href='command:jupyter.viewOutput'>log</a> for further details."
     ]
    }
   ],
   "source": [
    "gray_tophat = GrayscaleTopHat(image, kernel)\n",
    "cv2.imshow('Grayscale Top-hat', gray_tophat)"
   ]
  }
 ],
 "metadata": {
  "kernelspec": {
   "display_name": "Python 3",
   "language": "python",
   "name": "python3"
  },
  "language_info": {
   "codemirror_mode": {
    "name": "ipython",
    "version": 3
   },
   "file_extension": ".py",
   "mimetype": "text/x-python",
   "name": "python",
   "nbconvert_exporter": "python",
   "pygments_lexer": "ipython3",
   "version": "3.11.0"
  }
 },
 "nbformat": 4,
 "nbformat_minor": 2
}
